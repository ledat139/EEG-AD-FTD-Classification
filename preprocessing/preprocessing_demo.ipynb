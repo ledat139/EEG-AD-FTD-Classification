{
 "cells": [
  {
   "cell_type": "code",
   "execution_count": 2,
   "id": "c5aba4ec",
   "metadata": {},
   "outputs": [],
   "source": [
    "# === Import thư viện ===\n",
    "import os\n",
    "import pandas as pd\n",
    "import mne\n",
    "import numpy as np\n",
    "import matplotlib.pyplot as plt\n",
    "from scipy import signal"
   ]
  },
  {
   "cell_type": "code",
   "execution_count": 3,
   "id": "588d376c",
   "metadata": {},
   "outputs": [],
   "source": [
    "# === Config ===\n",
    "raw_dir = \"../data/raw\"\n",
    "out_dir = \"../data/processed_png\"\n",
    "participants_file = os.path.join(raw_dir, \"participants.tsv\")\n",
    "\n",
    "os.makedirs(out_dir, exist_ok=True)\n",
    "\n",
    "# Thông số phân đoạn\n",
    "segment_length_sec = 5\n",
    "sampling_rate = 500\n",
    "segment_length = segment_length_sec * sampling_rate\n",
    "\n",
    "overlap_ratio = 0.5\n",
    "overlap_step = int(segment_length * (1 - overlap_ratio))"
   ]
  },
  {
   "cell_type": "code",
   "execution_count": 4,
   "id": "0436c25f",
   "metadata": {},
   "outputs": [
    {
     "data": {
      "text/html": [
       "<div>\n",
       "<style scoped>\n",
       "    .dataframe tbody tr th:only-of-type {\n",
       "        vertical-align: middle;\n",
       "    }\n",
       "\n",
       "    .dataframe tbody tr th {\n",
       "        vertical-align: top;\n",
       "    }\n",
       "\n",
       "    .dataframe thead th {\n",
       "        text-align: right;\n",
       "    }\n",
       "</style>\n",
       "<table border=\"1\" class=\"dataframe\">\n",
       "  <thead>\n",
       "    <tr style=\"text-align: right;\">\n",
       "      <th></th>\n",
       "      <th>participant_id</th>\n",
       "      <th>Group</th>\n",
       "    </tr>\n",
       "  </thead>\n",
       "  <tbody>\n",
       "    <tr>\n",
       "      <th>0</th>\n",
       "      <td>sub-001</td>\n",
       "      <td>A</td>\n",
       "    </tr>\n",
       "    <tr>\n",
       "      <th>1</th>\n",
       "      <td>sub-002</td>\n",
       "      <td>A</td>\n",
       "    </tr>\n",
       "    <tr>\n",
       "      <th>2</th>\n",
       "      <td>sub-003</td>\n",
       "      <td>A</td>\n",
       "    </tr>\n",
       "    <tr>\n",
       "      <th>3</th>\n",
       "      <td>sub-004</td>\n",
       "      <td>A</td>\n",
       "    </tr>\n",
       "    <tr>\n",
       "      <th>4</th>\n",
       "      <td>sub-005</td>\n",
       "      <td>A</td>\n",
       "    </tr>\n",
       "  </tbody>\n",
       "</table>\n",
       "</div>"
      ],
      "text/plain": [
       "  participant_id Group\n",
       "0        sub-001     A\n",
       "1        sub-002     A\n",
       "2        sub-003     A\n",
       "3        sub-004     A\n",
       "4        sub-005     A"
      ]
     },
     "execution_count": 4,
     "metadata": {},
     "output_type": "execute_result"
    }
   ],
   "source": [
    "# ===  Load participants metadata ===\n",
    "participants_df = pd.read_csv(participants_file, sep=\"\\t\")\n",
    "participants_df = participants_df[[\"participant_id\", \"Group\"]]\n",
    "group_mapping = participants_df.set_index(\"participant_id\")[\"Group\"].to_dict()\n",
    "\n",
    "participants_df.head()\n"
   ]
  },
  {
   "cell_type": "code",
   "execution_count": 5,
   "id": "e13ef6ec",
   "metadata": {},
   "outputs": [],
   "source": [
    "# === Hàm helper để lưu spectrogram ===\n",
    "def save_spectrogram(signal_1d, fs, out_file):\n",
    "    f, t, Sxx = signal.spectrogram(signal_1d, fs=fs, nperseg=256, noverlap=128)\n",
    "    \n",
    "    # Giới hạn dải tần EEG 0.5–45 Hz để loại nhiễu\n",
    "    f_mask = (f >= 0.5) & (f <= 45)\n",
    "    f, Sxx = f[f_mask], Sxx[f_mask, :]\n",
    "\n",
    "    plt.figure(figsize=(3, 3))\n",
    "    plt.pcolormesh(t, f, 10 * np.log10(Sxx + 1e-8), shading=\"gouraud\", cmap=\"jet\")\n",
    "    plt.axis(\"off\")\n",
    "    plt.tight_layout(pad=0)\n",
    "    plt.savefig(out_file, bbox_inches=\"tight\", pad_inches=0)\n",
    "    plt.close()\n"
   ]
  },
  {
   "cell_type": "code",
   "execution_count": 12,
   "id": "54b10e38",
   "metadata": {},
   "outputs": [
    {
     "name": "stdout",
     "output_type": "stream",
     "text": [
      "🔹 Loading sub-080 ...\n"
     ]
    },
    {
     "name": "stderr",
     "output_type": "stream",
     "text": [
      "C:\\Users\\Acer\\AppData\\Local\\Temp\\ipykernel_20948\\379981218.py:20: RuntimeWarning: The data contains 'boundary' events, indicating data discontinuities. Be cautious of filtering and epoching around these events.\n",
      "  raw = mne.io.read_raw_eeglab(eeg_file, preload=True)\n"
     ]
    },
    {
     "name": "stdout",
     "output_type": "stream",
     "text": [
      "sub-080: 28 segments x 19 channels saved.\n",
      "🔹 Loading sub-081 ...\n"
     ]
    },
    {
     "name": "stderr",
     "output_type": "stream",
     "text": [
      "C:\\Users\\Acer\\AppData\\Local\\Temp\\ipykernel_20948\\379981218.py:20: RuntimeWarning: Limited 1 annotation(s) that were expanding outside the data range.\n",
      "  raw = mne.io.read_raw_eeglab(eeg_file, preload=True)\n",
      "C:\\Users\\Acer\\AppData\\Local\\Temp\\ipykernel_20948\\379981218.py:20: RuntimeWarning: The data contains 'boundary' events, indicating data discontinuities. Be cautious of filtering and epoching around these events.\n",
      "  raw = mne.io.read_raw_eeglab(eeg_file, preload=True)\n"
     ]
    },
    {
     "name": "stdout",
     "output_type": "stream",
     "text": [
      "sub-081: 34 segments x 19 channels saved.\n",
      "🔹 Loading sub-082 ...\n"
     ]
    },
    {
     "name": "stderr",
     "output_type": "stream",
     "text": [
      "C:\\Users\\Acer\\AppData\\Local\\Temp\\ipykernel_20948\\379981218.py:20: RuntimeWarning: The data contains 'boundary' events, indicating data discontinuities. Be cautious of filtering and epoching around these events.\n",
      "  raw = mne.io.read_raw_eeglab(eeg_file, preload=True)\n"
     ]
    },
    {
     "name": "stdout",
     "output_type": "stream",
     "text": [
      "sub-082: 27 segments x 19 channels saved.\n",
      "🔹 Loading sub-083 ...\n"
     ]
    },
    {
     "name": "stderr",
     "output_type": "stream",
     "text": [
      "C:\\Users\\Acer\\AppData\\Local\\Temp\\ipykernel_20948\\379981218.py:20: RuntimeWarning: The data contains 'boundary' events, indicating data discontinuities. Be cautious of filtering and epoching around these events.\n",
      "  raw = mne.io.read_raw_eeglab(eeg_file, preload=True)\n"
     ]
    },
    {
     "name": "stdout",
     "output_type": "stream",
     "text": [
      "sub-083: 26 segments x 19 channels saved.\n",
      "🔹 Loading sub-084 ...\n"
     ]
    },
    {
     "name": "stderr",
     "output_type": "stream",
     "text": [
      "C:\\Users\\Acer\\AppData\\Local\\Temp\\ipykernel_20948\\379981218.py:20: RuntimeWarning: The data contains 'boundary' events, indicating data discontinuities. Be cautious of filtering and epoching around these events.\n",
      "  raw = mne.io.read_raw_eeglab(eeg_file, preload=True)\n"
     ]
    },
    {
     "name": "stdout",
     "output_type": "stream",
     "text": [
      "sub-084: 27 segments x 19 channels saved.\n",
      "🔹 Loading sub-085 ...\n"
     ]
    },
    {
     "name": "stderr",
     "output_type": "stream",
     "text": [
      "C:\\Users\\Acer\\AppData\\Local\\Temp\\ipykernel_20948\\379981218.py:20: RuntimeWarning: The data contains 'boundary' events, indicating data discontinuities. Be cautious of filtering and epoching around these events.\n",
      "  raw = mne.io.read_raw_eeglab(eeg_file, preload=True)\n"
     ]
    },
    {
     "name": "stdout",
     "output_type": "stream",
     "text": [
      "sub-085: 37 segments x 19 channels saved.\n",
      "🔹 Loading sub-086 ...\n"
     ]
    },
    {
     "name": "stderr",
     "output_type": "stream",
     "text": [
      "C:\\Users\\Acer\\AppData\\Local\\Temp\\ipykernel_20948\\379981218.py:20: RuntimeWarning: Limited 1 annotation(s) that were expanding outside the data range.\n",
      "  raw = mne.io.read_raw_eeglab(eeg_file, preload=True)\n",
      "C:\\Users\\Acer\\AppData\\Local\\Temp\\ipykernel_20948\\379981218.py:20: RuntimeWarning: The data contains 'boundary' events, indicating data discontinuities. Be cautious of filtering and epoching around these events.\n",
      "  raw = mne.io.read_raw_eeglab(eeg_file, preload=True)\n"
     ]
    },
    {
     "name": "stdout",
     "output_type": "stream",
     "text": [
      "sub-086: 30 segments x 19 channels saved.\n",
      "🔹 Loading sub-087 ...\n"
     ]
    },
    {
     "name": "stderr",
     "output_type": "stream",
     "text": [
      "C:\\Users\\Acer\\AppData\\Local\\Temp\\ipykernel_20948\\379981218.py:20: RuntimeWarning: Limited 1 annotation(s) that were expanding outside the data range.\n",
      "  raw = mne.io.read_raw_eeglab(eeg_file, preload=True)\n",
      "C:\\Users\\Acer\\AppData\\Local\\Temp\\ipykernel_20948\\379981218.py:20: RuntimeWarning: The data contains 'boundary' events, indicating data discontinuities. Be cautious of filtering and epoching around these events.\n",
      "  raw = mne.io.read_raw_eeglab(eeg_file, preload=True)\n"
     ]
    },
    {
     "name": "stdout",
     "output_type": "stream",
     "text": [
      "sub-087: 28 segments x 19 channels saved.\n",
      "🔹 Loading sub-088 ...\n"
     ]
    },
    {
     "name": "stderr",
     "output_type": "stream",
     "text": [
      "C:\\Users\\Acer\\AppData\\Local\\Temp\\ipykernel_20948\\379981218.py:20: RuntimeWarning: The data contains 'boundary' events, indicating data discontinuities. Be cautious of filtering and epoching around these events.\n",
      "  raw = mne.io.read_raw_eeglab(eeg_file, preload=True)\n"
     ]
    },
    {
     "name": "stdout",
     "output_type": "stream",
     "text": [
      "sub-088: 49 segments x 19 channels saved.\n",
      "Batch done: subjects sub-080 → sub-088\n"
     ]
    }
   ],
   "source": [
    "# ==== Chạy từ sub-020 trở đi ====\n",
    "batch_size = 10\n",
    "total_subjects = len(participants_df)\n",
    "\n",
    "# Tìm index của sub-020\n",
    "start_idx = participants_df[participants_df[\"participant_id\"] == \"sub-080\"].index[0]\n",
    "end_idx = min(start_idx + batch_size, total_subjects)\n",
    "\n",
    "batch_subjects = participants_df[\"participant_id\"].iloc[start_idx:end_idx]\n",
    "\n",
    "for subj in batch_subjects:\n",
    "    subj_dir = os.path.join(raw_dir, subj, \"eeg\")\n",
    "    eeg_file = os.path.join(subj_dir, f\"{subj}_task-photomark_eeg.set\")\n",
    "\n",
    "    if not os.path.exists(eeg_file):\n",
    "        print(f\"File EEG không tồn tại: {subj}\")\n",
    "        continue\n",
    "\n",
    "    print(f\"🔹 Loading {subj} ...\")\n",
    "    raw = mne.io.read_raw_eeglab(eeg_file, preload=True)\n",
    "    data = raw.get_data()  # (n_channels, n_samples)\n",
    "    n_channels, n_samples = data.shape\n",
    "\n",
    "    label = group_mapping.get(subj, \"Unknown\")\n",
    "\n",
    "    # ==== Sliding window segmentation ====\n",
    "    seg_id = 0\n",
    "    start = 0\n",
    "    while start + segment_length <= n_samples:\n",
    "        end = start + segment_length\n",
    "        segment = data[:, start:end]\n",
    "\n",
    "        # Lưu spectrogram cho từng kênh\n",
    "        for ch_idx, ch_name in enumerate(raw.ch_names):\n",
    "            out_subdir = os.path.join(out_dir, label)\n",
    "            os.makedirs(out_subdir, exist_ok=True)\n",
    "\n",
    "            out_file = os.path.join(out_subdir, f\"{subj}_segment{seg_id:04d}_{ch_name}.png\")\n",
    "            save_spectrogram(segment[ch_idx], sampling_rate, out_file)\n",
    "\n",
    "        seg_id += 1\n",
    "        start += overlap_step\n",
    "\n",
    "    # Giải phóng RAM\n",
    "    del raw\n",
    "    import gc; gc.collect()\n",
    "\n",
    "    print(f\"{subj}: {seg_id} segments x {n_channels} channels saved.\")\n",
    "\n",
    "print(f\"Batch done: subjects {batch_subjects.iloc[0]} → {batch_subjects.iloc[-1]}\")\n"
   ]
  }
 ],
 "metadata": {
  "kernelspec": {
   "display_name": "thktdl",
   "language": "python",
   "name": "python3"
  },
  "language_info": {
   "codemirror_mode": {
    "name": "ipython",
    "version": 3
   },
   "file_extension": ".py",
   "mimetype": "text/x-python",
   "name": "python",
   "nbconvert_exporter": "python",
   "pygments_lexer": "ipython3",
   "version": "3.12.3"
  }
 },
 "nbformat": 4,
 "nbformat_minor": 5
}
