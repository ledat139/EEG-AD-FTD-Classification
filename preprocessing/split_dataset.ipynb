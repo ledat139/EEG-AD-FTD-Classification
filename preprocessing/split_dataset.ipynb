{
 "cells": [
  {
   "cell_type": "code",
   "execution_count": 1,
   "id": "63e8fe01",
   "metadata": {},
   "outputs": [],
   "source": [
    "import os\n",
    "import random\n",
    "import shutil\n",
    "import pandas as pd\n",
    "from sklearn.model_selection import train_test_split"
   ]
  },
  {
   "cell_type": "code",
   "execution_count": 4,
   "id": "195102cd",
   "metadata": {},
   "outputs": [
    {
     "name": "stdout",
     "output_type": "stream",
     "text": [
      "Tổng số subject: 88\n"
     ]
    }
   ],
   "source": [
    "random.seed(42)\n",
    "base_dir = \"../data/processed_png\"     # nơi chứa A, F, C (ảnh gốc)\n",
    "output_dir = \"../data/dataset_split\"   # nơi lưu train/val/test\n",
    "csv_dir = \"../data/csv_split\"          # nơi lưu file csv\n",
    "\n",
    "os.makedirs(output_dir, exist_ok=True)\n",
    "os.makedirs(csv_dir, exist_ok=True)\n",
    "\n",
    "labels = [\"A\", \"F\", \"C\"]\n",
    "\n",
    "# Đọc participants.tsv để lấy danh sách subject\n",
    "participants = pd.read_csv(\"../data/raw/participants.tsv\", sep=\"\\t\")\n",
    "subjects = participants[\"participant_id\"].tolist()\n",
    "print(\"Tổng số subject:\", len(subjects))"
   ]
  },
  {
   "cell_type": "code",
   "execution_count": 6,
   "id": "ce1e963a",
   "metadata": {},
   "outputs": [
    {
     "name": "stdout",
     "output_type": "stream",
     "text": [
      "Train: 61 Val: 13 Test: 14\n"
     ]
    }
   ],
   "source": [
    "# Chia train/val/test theo subject\n",
    "train_subjects, temp_subjects = train_test_split(subjects, test_size=0.3, random_state=42)\n",
    "val_subjects, test_subjects = train_test_split(temp_subjects, test_size=0.5, random_state=42)\n",
    "\n",
    "print(\"Train:\", len(train_subjects), \"Val:\", len(val_subjects), \"Test:\", len(test_subjects))"
   ]
  },
  {
   "cell_type": "code",
   "execution_count": 7,
   "id": "d349707a",
   "metadata": {},
   "outputs": [
    {
     "name": "stdout",
     "output_type": "stream",
     "text": [
      "Đã copy ảnh xong theo subject split\n"
     ]
    }
   ],
   "source": [
    "# Copy ảnh theo subject vào train/val/test\n",
    "def move_subject_images(subjects, split):\n",
    "    for label in labels:\n",
    "        src_folder = os.path.join(base_dir, label)\n",
    "        dst_folder = os.path.join(output_dir, split, label)\n",
    "        os.makedirs(dst_folder, exist_ok=True)\n",
    "\n",
    "        for fname in os.listdir(src_folder):\n",
    "            if any(fname.startswith(subj) for subj in subjects):\n",
    "                shutil.copy(os.path.join(src_folder, fname), dst_folder)\n",
    "\n",
    "# Thực hiện copy\n",
    "move_subject_images(train_subjects, \"train\")\n",
    "move_subject_images(val_subjects, \"val\")\n",
    "move_subject_images(test_subjects, \"test\")\n",
    "\n",
    "print(\"Đã copy ảnh xong theo subject split\")\n"
   ]
  },
  {
   "cell_type": "code",
   "execution_count": 8,
   "id": "5aaea750",
   "metadata": {},
   "outputs": [
    {
     "name": "stdout",
     "output_type": "stream",
     "text": [
      "Saved ../data/csv_split\\train.csv with 145179 samples\n",
      "Saved ../data/csv_split\\val.csv with 24662 samples\n",
      "Saved ../data/csv_split\\test.csv with 25840 samples\n"
     ]
    }
   ],
   "source": [
    "# Xuất CSV mapping filepath <> label\n",
    "import csv\n",
    "\n",
    "for split in [\"train\", \"val\", \"test\"]:\n",
    "    rows = []\n",
    "    for label in labels:\n",
    "        folder = os.path.join(output_dir, split, label)\n",
    "        files = os.listdir(folder)\n",
    "        for f in files:\n",
    "            filepath = os.path.join(folder, f)\n",
    "            rows.append([filepath, label])\n",
    "\n",
    "    csv_file = os.path.join(csv_dir, f\"{split}.csv\")\n",
    "    with open(csv_file, \"w\", newline=\"\") as f:\n",
    "        writer = csv.writer(f)\n",
    "        writer.writerow([\"filepath\", \"label\"])\n",
    "        writer.writerows(rows)\n",
    "\n",
    "    print(f\"Saved {csv_file} with {len(rows)} samples\")"
   ]
  },
  {
   "cell_type": "code",
   "execution_count": 9,
   "id": "c24029cc",
   "metadata": {},
   "outputs": [
    {
     "name": "stdout",
     "output_type": "stream",
     "text": [
      "\n",
      "TRAIN set:\n",
      "label\n",
      "C    70034\n",
      "A    49058\n",
      "F    26087\n",
      "Name: count, dtype: int64\n",
      "\n",
      "VAL set:\n",
      "label\n",
      "A    11191\n",
      "C     7182\n",
      "F     6289\n",
      "Name: count, dtype: int64\n",
      "\n",
      "TEST set:\n",
      "label\n",
      "A    11989\n",
      "F    10545\n",
      "C     3306\n",
      "Name: count, dtype: int64\n"
     ]
    }
   ],
   "source": [
    "# Kiểm tra\n",
    "for split in [\"train\", \"val\", \"test\"]:\n",
    "    df = pd.read_csv(f\"../data/csv_split/{split}.csv\")\n",
    "    print(f\"\\n{split.upper()} set:\")\n",
    "    print(df[\"label\"].value_counts())"
   ]
  },
  {
   "cell_type": "code",
   "execution_count": 11,
   "id": "4f59943f",
   "metadata": {},
   "outputs": [
    {
     "name": "stdout",
     "output_type": "stream",
     "text": [
      "\n",
      "===== TRAIN set =====\n",
      "Label A: 23 subjects -> ['sub-002', 'sub-003', 'sub-004', 'sub-007', 'sub-008', 'sub-009', 'sub-014', 'sub-015', 'sub-016', 'sub-017', 'sub-018', 'sub-020', 'sub-021', 'sub-022', 'sub-024', 'sub-025', 'sub-026', 'sub-028', 'sub-030', 'sub-032', 'sub-033', 'sub-035', 'sub-036']\n",
      "Label C: 25 subjects -> ['sub-037', 'sub-038', 'sub-039', 'sub-040', 'sub-042', 'sub-043', 'sub-044', 'sub-045', 'sub-046', 'sub-047', 'sub-048', 'sub-049', 'sub-050', 'sub-051', 'sub-052', 'sub-053', 'sub-055', 'sub-057', 'sub-058', 'sub-059', 'sub-060', 'sub-061', 'sub-062', 'sub-063', 'sub-064']\n",
      "Label F: 13 subjects -> ['sub-070', 'sub-071', 'sub-072', 'sub-073', 'sub-075', 'sub-076', 'sub-078', 'sub-079', 'sub-082', 'sub-083', 'sub-084', 'sub-087', 'sub-088']\n",
      "------------------------------------------------------------\n",
      "\n",
      "===== VAL set =====\n",
      "Label A: 6 subjects -> ['sub-006', 'sub-011', 'sub-012', 'sub-019', 'sub-023', 'sub-029']\n",
      "Label C: 3 subjects -> ['sub-041', 'sub-056', 'sub-065']\n",
      "Label F: 4 subjects -> ['sub-067', 'sub-074', 'sub-085', 'sub-086']\n",
      "------------------------------------------------------------\n",
      "\n",
      "===== TEST set =====\n",
      "Label A: 7 subjects -> ['sub-001', 'sub-005', 'sub-010', 'sub-013', 'sub-027', 'sub-031', 'sub-034']\n",
      "Label C: 1 subjects -> ['sub-054']\n",
      "Label F: 6 subjects -> ['sub-066', 'sub-068', 'sub-069', 'sub-077', 'sub-080', 'sub-081']\n",
      "------------------------------------------------------------\n"
     ]
    }
   ],
   "source": [
    "# Kiểm tra subject theo từng label trong mỗi split\n",
    "for split in [\"train\", \"val\", \"test\"]:\n",
    "    df = pd.read_csv(f\"../data/csv_split/{split}.csv\")\n",
    "\n",
    "    # Extract subject ID từ file path (sub-xxx)\n",
    "    df[\"subject\"] = df[\"filepath\"].str.extract(r\"(sub-\\d+)\")\n",
    "\n",
    "    print(f\"\\n===== {split.upper()} set =====\")\n",
    "    for label, group in df.groupby(\"label\"):\n",
    "        subjects = sorted(group[\"subject\"].unique())\n",
    "        print(f\"Label {label}: {len(subjects)} subjects -> {subjects}\")\n",
    "    print(\"-\" * 60)\n"
   ]
  }
 ],
 "metadata": {
  "kernelspec": {
   "display_name": "thktdl",
   "language": "python",
   "name": "python3"
  },
  "language_info": {
   "codemirror_mode": {
    "name": "ipython",
    "version": 3
   },
   "file_extension": ".py",
   "mimetype": "text/x-python",
   "name": "python",
   "nbconvert_exporter": "python",
   "pygments_lexer": "ipython3",
   "version": "3.12.3"
  }
 },
 "nbformat": 4,
 "nbformat_minor": 5
}
